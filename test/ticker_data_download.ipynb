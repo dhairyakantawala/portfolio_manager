{
 "cells": [
  {
   "cell_type": "code",
   "execution_count": 2,
   "metadata": {},
   "outputs": [],
   "source": [
    "import sys\n",
    "sys.path.append('/Users/dhairya/cs projects/ideas 2025')\n",
    "from main_functions import api_calling\n",
    "import pandas as pd"
   ]
  },
  {
   "cell_type": "code",
   "execution_count": 3,
   "metadata": {},
   "outputs": [
    {
     "name": "stdout",
     "output_type": "stream",
     "text": [
      "Error getting data for HDFC.BSE: Could not get monthly time series data for HDFC.BSE. Response: {'Error Message': 'Invalid API call. Please retry or visit the documentation (https://www.alphavantage.co/documentation/) for TIME_SERIES_MONTHLY.'}\n"
     ]
    }
   ],
   "source": [
    "# List of 25 major Indian stocks with BSE suffix\n",
    "tickers = [\n",
    "    'RELIANCE.BSE', 'TCS.BSE', 'HDFCBANK.BSE', 'INFY.BSE', 'HINDUNILVR.BSE',\n",
    "    'ICICIBANK.BSE', 'BHARTIARTL.BSE', 'HDFC.BSE', 'KOTAKBANK.BSE', 'ITC.BSE',\n",
    "    'LT.BSE', 'SBIN.BSE', 'BAJFINANCE.BSE', 'ASIANPAINT.BSE', 'AXISBANK.BSE',\n",
    "    'MARUTI.BSE', 'HCLTECH.BSE', 'ULTRACEMCO.BSE', 'TITAN.BSE', 'NESTLEIND.BSE',\n",
    "    'WIPRO.BSE', 'ADANIPORTS.BSE', 'TECHM.BSE', 'POWERGRID.BSE', 'NTPC.BSE'\n",
    "]\n",
    "\n",
    "# Get monthly data for each ticker\n",
    "stock_data = {}\n",
    "for ticker in tickers:\n",
    "    try:\n",
    "        df = api_calling.get_monthly_data(ticker)\n",
    "        stock_data[ticker] = df['close']\n",
    "    except ValueError as e:\n",
    "        print(f\"Error getting data for {ticker}: {e}\")\n",
    "\n",
    "# Combine all stock data into a single dataframe\n",
    "all_stocks_df = pd.DataFrame(stock_data)\n"
   ]
  },
  {
   "cell_type": "code",
   "execution_count": 5,
   "metadata": {},
   "outputs": [],
   "source": [
    "all_stocks_df.to_csv('temp_data.csv')"
   ]
  },
  {
   "cell_type": "code",
   "execution_count": null,
   "metadata": {},
   "outputs": [],
   "source": []
  }
 ],
 "metadata": {
  "kernelspec": {
   "display_name": "pair_trading",
   "language": "python",
   "name": "python3"
  },
  "language_info": {
   "codemirror_mode": {
    "name": "ipython",
    "version": 3
   },
   "file_extension": ".py",
   "mimetype": "text/x-python",
   "name": "python",
   "nbconvert_exporter": "python",
   "pygments_lexer": "ipython3",
   "version": "3.8.20"
  }
 },
 "nbformat": 4,
 "nbformat_minor": 2
}
